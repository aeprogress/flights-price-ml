{
 "cells": [
  {
   "cell_type": "code",
   "execution_count": 11,
   "metadata": {},
   "outputs": [],
   "source": [
    "import missingno as msno\n",
    "import pandas as pd\n",
    "import matplotlib.pyplot as plt\n",
    "import numpy as np\n",
    "import seaborn as sns\n",
    "import math\n",
    "import statistics\n",
    "from plotnine import ggplot, aes, geom_density, geom_line, geom_point, ggtitle\n",
    "\n",
    "from sklearn.model_selection import train_test_split, GridSearchCV, KFold, RepeatedKFold, cross_val_score\n",
    "from sklearn.model_selection import GridSearchCV\n",
    "from sklearn.neighbors import KNeighborsRegressor, KNeighborsClassifier\n",
    "from sklearn.metrics import mean_squared_error, roc_auc_score\n",
    "import xgboost as xgb\n",
    "from category_encoders.ordinal import OrdinalEncoder\n",
    "from sklearn.preprocessing import OneHotEncoder\n",
    "from sklearn.compose import ColumnTransformer\n",
    "from sklearn.compose import make_column_selector as selector\n",
    "from sklearn.compose import ColumnTransformer\n",
    "from sklearn.compose import make_column_selector as selector\n",
    "from sklearn.pipeline import Pipeline\n",
    "from sklearn.model_selection import RandomizedSearchCV\n",
    "from sklearn.inspection import partial_dependence\n",
    "from sklearn.model_selection import GridSearchCV\n",
    "from sklearn.model_selection import cross_val_score\n",
    "from sklearn.model_selection import KFold\n",
    "from sklearn import preprocessing"
   ]
  },
  {
   "cell_type": "code",
   "execution_count": 4,
   "metadata": {},
   "outputs": [
    {
     "data": {
      "text/html": [
       "<div>\n",
       "<style scoped>\n",
       "    .dataframe tbody tr th:only-of-type {\n",
       "        vertical-align: middle;\n",
       "    }\n",
       "\n",
       "    .dataframe tbody tr th {\n",
       "        vertical-align: top;\n",
       "    }\n",
       "\n",
       "    .dataframe thead th {\n",
       "        text-align: right;\n",
       "    }\n",
       "</style>\n",
       "<table border=\"1\" class=\"dataframe\">\n",
       "  <thead>\n",
       "    <tr style=\"text-align: right;\">\n",
       "      <th></th>\n",
       "      <th>airline</th>\n",
       "      <th>source</th>\n",
       "      <th>destination</th>\n",
       "      <th>dep_time</th>\n",
       "      <th>arrival_time</th>\n",
       "      <th>duration</th>\n",
       "      <th>total_stops</th>\n",
       "      <th>additional_info</th>\n",
       "      <th>price</th>\n",
       "      <th>month</th>\n",
       "      <th>day</th>\n",
       "    </tr>\n",
       "  </thead>\n",
       "  <tbody>\n",
       "    <tr>\n",
       "      <th>0</th>\n",
       "      <td>IndiGo</td>\n",
       "      <td>Banglore</td>\n",
       "      <td>New Delhi</td>\n",
       "      <td>evening</td>\n",
       "      <td>mid_night</td>\n",
       "      <td>10200</td>\n",
       "      <td>0</td>\n",
       "      <td>No info</td>\n",
       "      <td>3897</td>\n",
       "      <td>3</td>\n",
       "      <td>24</td>\n",
       "    </tr>\n",
       "    <tr>\n",
       "      <th>1</th>\n",
       "      <td>Air India</td>\n",
       "      <td>Kolkata</td>\n",
       "      <td>Banglore</td>\n",
       "      <td>mid_night</td>\n",
       "      <td>afternoon</td>\n",
       "      <td>26700</td>\n",
       "      <td>2</td>\n",
       "      <td>No info</td>\n",
       "      <td>7662</td>\n",
       "      <td>5</td>\n",
       "      <td>1</td>\n",
       "    </tr>\n",
       "    <tr>\n",
       "      <th>2</th>\n",
       "      <td>Jet Airways</td>\n",
       "      <td>Delhi</td>\n",
       "      <td>Cochin</td>\n",
       "      <td>morning</td>\n",
       "      <td>mid_night</td>\n",
       "      <td>68400</td>\n",
       "      <td>2</td>\n",
       "      <td>No info</td>\n",
       "      <td>13882</td>\n",
       "      <td>6</td>\n",
       "      <td>9</td>\n",
       "    </tr>\n",
       "    <tr>\n",
       "      <th>3</th>\n",
       "      <td>IndiGo</td>\n",
       "      <td>Kolkata</td>\n",
       "      <td>Banglore</td>\n",
       "      <td>evening</td>\n",
       "      <td>evening</td>\n",
       "      <td>19500</td>\n",
       "      <td>1</td>\n",
       "      <td>No info</td>\n",
       "      <td>6218</td>\n",
       "      <td>5</td>\n",
       "      <td>12</td>\n",
       "    </tr>\n",
       "    <tr>\n",
       "      <th>4</th>\n",
       "      <td>IndiGo</td>\n",
       "      <td>Banglore</td>\n",
       "      <td>New Delhi</td>\n",
       "      <td>afternoon</td>\n",
       "      <td>evening</td>\n",
       "      <td>17100</td>\n",
       "      <td>1</td>\n",
       "      <td>No info</td>\n",
       "      <td>13302</td>\n",
       "      <td>3</td>\n",
       "      <td>1</td>\n",
       "    </tr>\n",
       "    <tr>\n",
       "      <th>5</th>\n",
       "      <td>SpiceJet</td>\n",
       "      <td>Kolkata</td>\n",
       "      <td>Banglore</td>\n",
       "      <td>morning</td>\n",
       "      <td>morning</td>\n",
       "      <td>8700</td>\n",
       "      <td>0</td>\n",
       "      <td>No info</td>\n",
       "      <td>3873</td>\n",
       "      <td>6</td>\n",
       "      <td>24</td>\n",
       "    </tr>\n",
       "    <tr>\n",
       "      <th>6</th>\n",
       "      <td>Jet Airways</td>\n",
       "      <td>Banglore</td>\n",
       "      <td>New Delhi</td>\n",
       "      <td>evening</td>\n",
       "      <td>morning</td>\n",
       "      <td>55800</td>\n",
       "      <td>1</td>\n",
       "      <td>In-flight meal not included</td>\n",
       "      <td>11087</td>\n",
       "      <td>3</td>\n",
       "      <td>12</td>\n",
       "    </tr>\n",
       "    <tr>\n",
       "      <th>7</th>\n",
       "      <td>Jet Airways</td>\n",
       "      <td>Banglore</td>\n",
       "      <td>New Delhi</td>\n",
       "      <td>morning</td>\n",
       "      <td>mid_night</td>\n",
       "      <td>75900</td>\n",
       "      <td>1</td>\n",
       "      <td>No info</td>\n",
       "      <td>22270</td>\n",
       "      <td>3</td>\n",
       "      <td>1</td>\n",
       "    </tr>\n",
       "    <tr>\n",
       "      <th>8</th>\n",
       "      <td>Jet Airways</td>\n",
       "      <td>Banglore</td>\n",
       "      <td>New Delhi</td>\n",
       "      <td>morning</td>\n",
       "      <td>morning</td>\n",
       "      <td>91800</td>\n",
       "      <td>1</td>\n",
       "      <td>In-flight meal not included</td>\n",
       "      <td>11087</td>\n",
       "      <td>3</td>\n",
       "      <td>12</td>\n",
       "    </tr>\n",
       "    <tr>\n",
       "      <th>9</th>\n",
       "      <td>Multiple carriers</td>\n",
       "      <td>Delhi</td>\n",
       "      <td>Cochin</td>\n",
       "      <td>morning</td>\n",
       "      <td>evening</td>\n",
       "      <td>28200</td>\n",
       "      <td>1</td>\n",
       "      <td>No info</td>\n",
       "      <td>8625</td>\n",
       "      <td>5</td>\n",
       "      <td>27</td>\n",
       "    </tr>\n",
       "    <tr>\n",
       "      <th>10</th>\n",
       "      <td>Air India</td>\n",
       "      <td>Delhi</td>\n",
       "      <td>Cochin</td>\n",
       "      <td>morning</td>\n",
       "      <td>evening</td>\n",
       "      <td>47700</td>\n",
       "      <td>1</td>\n",
       "      <td>No info</td>\n",
       "      <td>8907</td>\n",
       "      <td>6</td>\n",
       "      <td>1</td>\n",
       "    </tr>\n",
       "    <tr>\n",
       "      <th>11</th>\n",
       "      <td>IndiGo</td>\n",
       "      <td>Kolkata</td>\n",
       "      <td>Banglore</td>\n",
       "      <td>evening</td>\n",
       "      <td>evening</td>\n",
       "      <td>9300</td>\n",
       "      <td>0</td>\n",
       "      <td>No info</td>\n",
       "      <td>4174</td>\n",
       "      <td>4</td>\n",
       "      <td>18</td>\n",
       "    </tr>\n",
       "    <tr>\n",
       "      <th>12</th>\n",
       "      <td>Air India</td>\n",
       "      <td>Chennai</td>\n",
       "      <td>Kolkata</td>\n",
       "      <td>morning</td>\n",
       "      <td>afternoon</td>\n",
       "      <td>8100</td>\n",
       "      <td>0</td>\n",
       "      <td>No info</td>\n",
       "      <td>4667</td>\n",
       "      <td>6</td>\n",
       "      <td>24</td>\n",
       "    </tr>\n",
       "    <tr>\n",
       "      <th>13</th>\n",
       "      <td>Jet Airways</td>\n",
       "      <td>Kolkata</td>\n",
       "      <td>Banglore</td>\n",
       "      <td>evening</td>\n",
       "      <td>morning</td>\n",
       "      <td>43800</td>\n",
       "      <td>1</td>\n",
       "      <td>In-flight meal not included</td>\n",
       "      <td>9663</td>\n",
       "      <td>5</td>\n",
       "      <td>9</td>\n",
       "    </tr>\n",
       "    <tr>\n",
       "      <th>14</th>\n",
       "      <td>IndiGo</td>\n",
       "      <td>Kolkata</td>\n",
       "      <td>Banglore</td>\n",
       "      <td>afternoon</td>\n",
       "      <td>evening</td>\n",
       "      <td>9300</td>\n",
       "      <td>0</td>\n",
       "      <td>No info</td>\n",
       "      <td>4804</td>\n",
       "      <td>4</td>\n",
       "      <td>24</td>\n",
       "    </tr>\n",
       "  </tbody>\n",
       "</table>\n",
       "</div>"
      ],
      "text/plain": [
       "              airline    source destination   dep_time arrival_time  duration  \\\n",
       "0              IndiGo  Banglore   New Delhi    evening    mid_night     10200   \n",
       "1           Air India   Kolkata    Banglore  mid_night    afternoon     26700   \n",
       "2         Jet Airways     Delhi      Cochin    morning    mid_night     68400   \n",
       "3              IndiGo   Kolkata    Banglore    evening      evening     19500   \n",
       "4              IndiGo  Banglore   New Delhi  afternoon      evening     17100   \n",
       "5            SpiceJet   Kolkata    Banglore    morning      morning      8700   \n",
       "6         Jet Airways  Banglore   New Delhi    evening      morning     55800   \n",
       "7         Jet Airways  Banglore   New Delhi    morning    mid_night     75900   \n",
       "8         Jet Airways  Banglore   New Delhi    morning      morning     91800   \n",
       "9   Multiple carriers     Delhi      Cochin    morning      evening     28200   \n",
       "10          Air India     Delhi      Cochin    morning      evening     47700   \n",
       "11             IndiGo   Kolkata    Banglore    evening      evening      9300   \n",
       "12          Air India   Chennai     Kolkata    morning    afternoon      8100   \n",
       "13        Jet Airways   Kolkata    Banglore    evening      morning     43800   \n",
       "14             IndiGo   Kolkata    Banglore  afternoon      evening      9300   \n",
       "\n",
       "    total_stops              additional_info  price  month  day  \n",
       "0             0                      No info   3897      3   24  \n",
       "1             2                      No info   7662      5    1  \n",
       "2             2                      No info  13882      6    9  \n",
       "3             1                      No info   6218      5   12  \n",
       "4             1                      No info  13302      3    1  \n",
       "5             0                      No info   3873      6   24  \n",
       "6             1  In-flight meal not included  11087      3   12  \n",
       "7             1                      No info  22270      3    1  \n",
       "8             1  In-flight meal not included  11087      3   12  \n",
       "9             1                      No info   8625      5   27  \n",
       "10            1                      No info   8907      6    1  \n",
       "11            0                      No info   4174      4   18  \n",
       "12            0                      No info   4667      6   24  \n",
       "13            1  In-flight meal not included   9663      5    9  \n",
       "14            0                      No info   4804      4   24  "
      ]
     },
     "execution_count": 4,
     "metadata": {},
     "output_type": "execute_result"
    }
   ],
   "source": [
    "flights = pd.read_csv(\"/home/emumen/Documents/flights-price-ml/data/cleaned_data.csv\")\n",
    "flights.head(15)"
   ]
  },
  {
   "cell_type": "markdown",
   "metadata": {},
   "source": [
    "EDA"
   ]
  },
  {
   "cell_type": "code",
   "execution_count": null,
   "metadata": {},
   "outputs": [],
   "source": [
    "msno.matrix(flights, labels=True, filter=\"bottom\", sort=\"ascending\", n=50)"
   ]
  },
  {
   "cell_type": "code",
   "execution_count": 5,
   "metadata": {},
   "outputs": [
    {
     "name": "stdout",
     "output_type": "stream",
     "text": [
      "<class 'pandas.core.frame.DataFrame'>\n",
      "RangeIndex: 10462 entries, 0 to 10461\n",
      "Data columns (total 11 columns):\n",
      " #   Column           Non-Null Count  Dtype \n",
      "---  ------           --------------  ----- \n",
      " 0   airline          10462 non-null  object\n",
      " 1   source           10462 non-null  object\n",
      " 2   destination      10462 non-null  object\n",
      " 3   dep_time         10462 non-null  object\n",
      " 4   arrival_time     10462 non-null  object\n",
      " 5   duration         10462 non-null  int64 \n",
      " 6   total_stops      10462 non-null  int64 \n",
      " 7   additional_info  10462 non-null  object\n",
      " 8   price            10462 non-null  int64 \n",
      " 9   month            10462 non-null  int64 \n",
      " 10  day              10462 non-null  int64 \n",
      "dtypes: int64(5), object(6)\n",
      "memory usage: 899.2+ KB\n"
     ]
    },
    {
     "data": {
      "text/plain": [
       "Index(['airline', 'source', 'destination', 'dep_time', 'arrival_time',\n",
       "       'duration', 'total_stops', 'additional_info', 'price', 'month', 'day'],\n",
       "      dtype='object')"
      ]
     },
     "execution_count": 5,
     "metadata": {},
     "output_type": "execute_result"
    }
   ],
   "source": [
    "flights.info()\n",
    "flights.shape\n",
    "flights.columns"
   ]
  },
  {
   "cell_type": "code",
   "execution_count": 6,
   "metadata": {},
   "outputs": [
    {
     "data": {
      "text/html": [
       "<div>\n",
       "<style scoped>\n",
       "    .dataframe tbody tr th:only-of-type {\n",
       "        vertical-align: middle;\n",
       "    }\n",
       "\n",
       "    .dataframe tbody tr th {\n",
       "        vertical-align: top;\n",
       "    }\n",
       "\n",
       "    .dataframe thead th {\n",
       "        text-align: right;\n",
       "    }\n",
       "</style>\n",
       "<table border=\"1\" class=\"dataframe\">\n",
       "  <thead>\n",
       "    <tr style=\"text-align: right;\">\n",
       "      <th></th>\n",
       "      <th>duration</th>\n",
       "      <th>total_stops</th>\n",
       "      <th>price</th>\n",
       "      <th>month</th>\n",
       "      <th>day</th>\n",
       "    </tr>\n",
       "  </thead>\n",
       "  <tbody>\n",
       "    <tr>\n",
       "      <th>count</th>\n",
       "      <td>10462.000000</td>\n",
       "      <td>10462.000000</td>\n",
       "      <td>10462.000000</td>\n",
       "      <td>10462.000000</td>\n",
       "      <td>10462.000000</td>\n",
       "    </tr>\n",
       "    <tr>\n",
       "      <th>mean</th>\n",
       "      <td>37786.895431</td>\n",
       "      <td>0.802332</td>\n",
       "      <td>9026.790289</td>\n",
       "      <td>4.701491</td>\n",
       "      <td>13.463200</td>\n",
       "    </tr>\n",
       "    <tr>\n",
       "      <th>std</th>\n",
       "      <td>30041.942724</td>\n",
       "      <td>0.660609</td>\n",
       "      <td>4624.849541</td>\n",
       "      <td>1.163802</td>\n",
       "      <td>8.467493</td>\n",
       "    </tr>\n",
       "    <tr>\n",
       "      <th>min</th>\n",
       "      <td>300.000000</td>\n",
       "      <td>0.000000</td>\n",
       "      <td>1759.000000</td>\n",
       "      <td>3.000000</td>\n",
       "      <td>1.000000</td>\n",
       "    </tr>\n",
       "    <tr>\n",
       "      <th>25%</th>\n",
       "      <td>10200.000000</td>\n",
       "      <td>0.000000</td>\n",
       "      <td>5224.000000</td>\n",
       "      <td>3.000000</td>\n",
       "      <td>6.000000</td>\n",
       "    </tr>\n",
       "    <tr>\n",
       "      <th>50%</th>\n",
       "      <td>30300.000000</td>\n",
       "      <td>1.000000</td>\n",
       "      <td>8266.000000</td>\n",
       "      <td>5.000000</td>\n",
       "      <td>12.000000</td>\n",
       "    </tr>\n",
       "    <tr>\n",
       "      <th>75%</th>\n",
       "      <td>54600.000000</td>\n",
       "      <td>1.000000</td>\n",
       "      <td>12344.750000</td>\n",
       "      <td>6.000000</td>\n",
       "      <td>21.000000</td>\n",
       "    </tr>\n",
       "    <tr>\n",
       "      <th>max</th>\n",
       "      <td>171600.000000</td>\n",
       "      <td>4.000000</td>\n",
       "      <td>79512.000000</td>\n",
       "      <td>6.000000</td>\n",
       "      <td>27.000000</td>\n",
       "    </tr>\n",
       "  </tbody>\n",
       "</table>\n",
       "</div>"
      ],
      "text/plain": [
       "            duration   total_stops         price         month           day\n",
       "count   10462.000000  10462.000000  10462.000000  10462.000000  10462.000000\n",
       "mean    37786.895431      0.802332   9026.790289      4.701491     13.463200\n",
       "std     30041.942724      0.660609   4624.849541      1.163802      8.467493\n",
       "min       300.000000      0.000000   1759.000000      3.000000      1.000000\n",
       "25%     10200.000000      0.000000   5224.000000      3.000000      6.000000\n",
       "50%     30300.000000      1.000000   8266.000000      5.000000     12.000000\n",
       "75%     54600.000000      1.000000  12344.750000      6.000000     21.000000\n",
       "max    171600.000000      4.000000  79512.000000      6.000000     27.000000"
      ]
     },
     "execution_count": 6,
     "metadata": {},
     "output_type": "execute_result"
    }
   ],
   "source": [
    "flights.describe()"
   ]
  },
  {
   "cell_type": "code",
   "execution_count": 16,
   "metadata": {},
   "outputs": [
    {
     "data": {
      "text/plain": [
       "airline            0\n",
       "source             0\n",
       "destination        0\n",
       "dep_time           0\n",
       "arrival_time       0\n",
       "duration           0\n",
       "total_stops        0\n",
       "additional_info    0\n",
       "price              0\n",
       "month              0\n",
       "day                0\n",
       "dtype: int64"
      ]
     },
     "execution_count": 16,
     "metadata": {},
     "output_type": "execute_result"
    }
   ],
   "source": [
    "flights.isnull().sum()"
   ]
  },
  {
   "cell_type": "code",
   "execution_count": 7,
   "metadata": {},
   "outputs": [
    {
     "data": {
      "text/plain": [
       "Jet Airways                          3700\n",
       "IndiGo                               2043\n",
       "Air India                            1694\n",
       "Multiple carriers                    1196\n",
       "SpiceJet                              815\n",
       "Vistara                               478\n",
       "Air Asia                              319\n",
       "GoAir                                 194\n",
       "Multiple carriers Premium economy      13\n",
       "Jet Airways Business                    6\n",
       "Vistara Premium economy                 3\n",
       "Trujet                                  1\n",
       "Name: airline, dtype: int64"
      ]
     },
     "execution_count": 7,
     "metadata": {},
     "output_type": "execute_result"
    }
   ],
   "source": [
    "#Checking out the different airlines and counting flights for each.\n",
    "flights['airline'].value_counts()"
   ]
  },
  {
   "cell_type": "code",
   "execution_count": 29,
   "metadata": {},
   "outputs": [
    {
     "data": {
      "image/png": "[encoded data removed]",
      "text/plain": [
       "<Figure size 432x288 with 1 Axes>"
      ]
     },
     "metadata": {
      "needs_background": "light"
     },
     "output_type": "display_data"
    }
   ],
   "source": [
    "\n",
    "#Flight prices throughout the year\n",
    "ax1 = flights.plot.scatter(x='month',\n",
    "                           y='price',\n",
    "                           c='DarkBlue')\n",
    "#plt.plot(flights['month'], flights['price'])"
   ]
  },
  {
   "cell_type": "code",
   "execution_count": 21,
   "metadata": {},
   "outputs": [
    {
     "data": {
      "image/png": "[encoded data removed]",
      "text/plain": [
       "<Figure size 2160x720 with 1 Axes>"
      ]
     },
     "metadata": {
      "needs_background": "light"
     },
     "output_type": "display_data"
    }
   ],
   "source": [
    "#A boxplot representing the prices for each destination\n",
    "sns.catplot(y = \"price\", x = \"destination\", data = flights.sort_values(\"price\", ascending = False), kind=\"box\", height = 10, aspect = 3)\n",
    "plt.show()"
   ]
  },
  {
   "cell_type": "code",
   "execution_count": 28,
   "metadata": {},
   "outputs": [
    {
     "data": {
      "text/plain": [
       "([0, 1, 2, 3, 4, 5, 6, 7, 8, 9, 10, 11],\n",
       " [Text(0, 0, ''),\n",
       "  Text(0, 0, ''),\n",
       "  Text(0, 0, ''),\n",
       "  Text(0, 0, ''),\n",
       "  Text(0, 0, ''),\n",
       "  Text(0, 0, ''),\n",
       "  Text(0, 0, ''),\n",
       "  Text(0, 0, ''),\n",
       "  Text(0, 0, ''),\n",
       "  Text(0, 0, ''),\n",
       "  Text(0, 0, ''),\n",
       "  Text(0, 0, '')])"
      ]
     },
     "execution_count": 28,
     "metadata": {},
     "output_type": "execute_result"
    },
    {
     "data": {
      "image/png": "[encoded data removed]",
      "text/plain": [
       "<Figure size 1080x288 with 1 Axes>"
      ]
     },
     "metadata": {
      "needs_background": "light"
     },
     "output_type": "display_data"
    }
   ],
   "source": [
    "#Comparing prices for each airline\n",
    "plt.figure(figsize = (15,4))\n",
    "plt.title('Price VS Airlines')\n",
    "plt.scatter(flights['airline'], flights['price'], color=\"cyan\")\n",
    "plt.xticks\n",
    "plt.xlabel('airline')\n",
    "plt.ylabel('Price of ticket')\n",
    "plt.xticks(rotation = 90)"
   ]
  },
  {
   "cell_type": "code",
   "execution_count": 14,
   "metadata": {},
   "outputs": [
    {
     "data": {
      "text/html": [
       "<div>\n",
       "<style scoped>\n",
       "    .dataframe tbody tr th:only-of-type {\n",
       "        vertical-align: middle;\n",
       "    }\n",
       "\n",
       "    .dataframe tbody tr th {\n",
       "        vertical-align: top;\n",
       "    }\n",
       "\n",
       "    .dataframe thead th {\n",
       "        text-align: right;\n",
       "    }\n",
       "</style>\n",
       "<table border=\"1\" class=\"dataframe\">\n",
       "  <thead>\n",
       "    <tr style=\"text-align: right;\">\n",
       "      <th></th>\n",
       "      <th>airline</th>\n",
       "      <th>source</th>\n",
       "      <th>destination</th>\n",
       "      <th>dep_time</th>\n",
       "      <th>arrival_time</th>\n",
       "      <th>duration</th>\n",
       "      <th>total_stops</th>\n",
       "      <th>additional_info</th>\n",
       "      <th>month</th>\n",
       "      <th>day</th>\n",
       "    </tr>\n",
       "  </thead>\n",
       "  <tbody>\n",
       "    <tr>\n",
       "      <th>0</th>\n",
       "      <td>IndiGo</td>\n",
       "      <td>Banglore</td>\n",
       "      <td>New Delhi</td>\n",
       "      <td>evening</td>\n",
       "      <td>mid_night</td>\n",
       "      <td>10200</td>\n",
       "      <td>0</td>\n",
       "      <td>No info</td>\n",
       "      <td>3</td>\n",
       "      <td>24</td>\n",
       "    </tr>\n",
       "    <tr>\n",
       "      <th>1</th>\n",
       "      <td>Air India</td>\n",
       "      <td>Kolkata</td>\n",
       "      <td>Banglore</td>\n",
       "      <td>mid_night</td>\n",
       "      <td>afternoon</td>\n",
       "      <td>26700</td>\n",
       "      <td>2</td>\n",
       "      <td>No info</td>\n",
       "      <td>5</td>\n",
       "      <td>1</td>\n",
       "    </tr>\n",
       "    <tr>\n",
       "      <th>2</th>\n",
       "      <td>Jet Airways</td>\n",
       "      <td>Delhi</td>\n",
       "      <td>Cochin</td>\n",
       "      <td>morning</td>\n",
       "      <td>mid_night</td>\n",
       "      <td>68400</td>\n",
       "      <td>2</td>\n",
       "      <td>No info</td>\n",
       "      <td>6</td>\n",
       "      <td>9</td>\n",
       "    </tr>\n",
       "    <tr>\n",
       "      <th>3</th>\n",
       "      <td>IndiGo</td>\n",
       "      <td>Kolkata</td>\n",
       "      <td>Banglore</td>\n",
       "      <td>evening</td>\n",
       "      <td>evening</td>\n",
       "      <td>19500</td>\n",
       "      <td>1</td>\n",
       "      <td>No info</td>\n",
       "      <td>5</td>\n",
       "      <td>12</td>\n",
       "    </tr>\n",
       "    <tr>\n",
       "      <th>4</th>\n",
       "      <td>IndiGo</td>\n",
       "      <td>Banglore</td>\n",
       "      <td>New Delhi</td>\n",
       "      <td>afternoon</td>\n",
       "      <td>evening</td>\n",
       "      <td>17100</td>\n",
       "      <td>1</td>\n",
       "      <td>No info</td>\n",
       "      <td>3</td>\n",
       "      <td>1</td>\n",
       "    </tr>\n",
       "  </tbody>\n",
       "</table>\n",
       "</div>"
      ],
      "text/plain": [
       "       airline    source destination   dep_time arrival_time  duration  \\\n",
       "0       IndiGo  Banglore   New Delhi    evening    mid_night     10200   \n",
       "1    Air India   Kolkata    Banglore  mid_night    afternoon     26700   \n",
       "2  Jet Airways     Delhi      Cochin    morning    mid_night     68400   \n",
       "3       IndiGo   Kolkata    Banglore    evening      evening     19500   \n",
       "4       IndiGo  Banglore   New Delhi  afternoon      evening     17100   \n",
       "\n",
       "   total_stops additional_info  month  day  \n",
       "0            0         No info      3   24  \n",
       "1            2         No info      5    1  \n",
       "2            2         No info      6    9  \n",
       "3            1         No info      5   12  \n",
       "4            1         No info      3    1  "
      ]
     },
     "execution_count": 14,
     "metadata": {},
     "output_type": "execute_result"
    }
   ],
   "source": [
    "# features\n",
    "flights.drop(\"price\", axis=1).head()"
   ]
  },
  {
   "cell_type": "code",
   "execution_count": 16,
   "metadata": {},
   "outputs": [
    {
     "data": {
      "text/plain": [
       "0     3897\n",
       "1     7662\n",
       "2    13882\n",
       "3     6218\n",
       "4    13302\n",
       "Name: price, dtype: int64"
      ]
     },
     "execution_count": 16,
     "metadata": {},
     "output_type": "execute_result"
    }
   ],
   "source": [
    "flights[\"price\"].head()"
   ]
  },
  {
   "cell_type": "markdown",
   "metadata": {},
   "source": [
    "Gradient Boosting Model"
   ]
  },
  {
   "cell_type": "code",
   "execution_count": 5,
   "metadata": {},
   "outputs": [
    {
     "data": {
      "text/plain": [
       "(7323, 11)"
      ]
     },
     "execution_count": 5,
     "metadata": {},
     "output_type": "execute_result"
    }
   ],
   "source": [
    "#Splitting the data\n",
    "\n",
    "train, test = train_test_split(flights, train_size=0.7, random_state=123)\n",
    "train.shape"
   ]
  },
  {
   "cell_type": "code",
   "execution_count": 6,
   "metadata": {},
   "outputs": [],
   "source": [
    "#This is to separate the features or attribute from the target\n",
    "X_train = train.drop(\"price\", axis=1)\n",
    "y_train = train[[\"price\"]]"
   ]
  },
  {
   "cell_type": "code",
   "execution_count": 14,
   "metadata": {},
   "outputs": [],
   "source": [
    "# Ordinal encode our quality-based features \n",
    "ord_cols = list(X_train.filter(regex=(\"Qual$|QC$|Cond$\")).columns)\n",
    "lvs = [\"Very_Poor\", \"Poor\", \"Fair\", \"Below_Average\", \"Average\", \"Typical\", \n",
    "       \"Above_Average\", \"Good\", \"Very_Good\", \"Excellent\", \"Very_Excellent\"]\n",
    "val = range(0, len(lvs))\n",
    "lvl_map = dict(zip(lvs, val))\n",
    "category_mapping = [{'col': col, 'mapping': lvl_map} for col in ord_cols]\n",
    "ord_encoder = OrdinalEncoder(cols=ord_cols, mapping=category_mapping)\n",
    "\n",
    "# One hot encode remaining nominal features\n",
    "encoder = OneHotEncoder(handle_unknown=\"ignore\", sparse=False)\n",
    "\n",
    "# Combine into a pre-processing pipeline\n",
    "preprocessor = ColumnTransformer(\n",
    "  remainder=\"passthrough\",\n",
    "  transformers=[\n",
    "   (\"ord_encode\", ord_encoder, ord_cols),\n",
    "   (\"one-hot\", encoder, selector(dtype_include=\"object\")),\n",
    "   ]\n",
    "  )"
   ]
  },
  {
   "cell_type": "code",
   "execution_count": 15,
   "metadata": {},
   "outputs": [
    {
     "data": {
      "text/plain": [
       "1740.4516144090207"
      ]
     },
     "execution_count": 15,
     "metadata": {},
     "output_type": "execute_result"
    }
   ],
   "source": [
    "# GBM Estimator Model Object\n",
    "xgb_mod = xgb.XGBRegressor()\n",
    "\n",
    "#Loss Function\n",
    "loss = 'neg_root_mean_squared_error'\n",
    "\n",
    "#Creating a pipeline\n",
    "model_pipeline = Pipeline(steps=[\n",
    "  (\"preprocessor\", preprocessor),\n",
    "  (\"xgb_mod\", xgb_mod),\n",
    "])\n",
    "\n",
    "\n",
    "kfold = KFold(n_splits=5, random_state=123, shuffle=True)\n",
    "\n",
    "# Implementing a five fold CV\n",
    "results = cross_val_score(model_pipeline, X_train, y_train, cv=kfold, scoring=loss)\n",
    "\n",
    "np.abs(np.mean(results))"
   ]
  },
  {
   "cell_type": "code",
   "execution_count": 16,
   "metadata": {},
   "outputs": [
    {
     "name": "stderr",
     "output_type": "stream",
     "text": [
      "/home/emumen/.local/lib/python3.8/site-packages/joblib/externals/loky/process_executor.py:702: UserWarning: A worker stopped while some jobs were given to the executor. This can be caused by a too short worker timeout or by a memory leak.\n"
     ]
    },
    {
     "data": {
      "text/plain": [
       "1580.7852672359247"
      ]
     },
     "execution_count": 16,
     "metadata": {},
     "output_type": "execute_result"
    }
   ],
   "source": [
    "# Setting the Hyperparameters\n",
    "hyper_grid = {\n",
    "  'xgb_mod__n_estimators': [1000, 2500, 5000],\n",
    "  'xgb_mod__learning_rate': [0.001, 0.01, 0.1],\n",
    "  'xgb_mod__max_depth': [3, 5, 7, 9],\n",
    "  'xgb_mod__min_child_weight': [1, 5, 15] \n",
    "}\n",
    "\n",
    "# create random search object\n",
    "random_search = RandomizedSearchCV(\n",
    "    model_pipeline, \n",
    "    param_distributions=hyper_grid, \n",
    "    n_iter=20, \n",
    "    cv=kfold, \n",
    "    scoring=loss, \n",
    "    n_jobs=-1, \n",
    "    random_state=13\n",
    ")\n",
    "\n",
    "# Execute random search\n",
    "random_search_results = random_search.fit(X_train, y_train)\n",
    "\n",
    "# Best model score\n",
    "np.abs(random_search_results.best_score_)\n"
   ]
  },
  {
   "cell_type": "code",
   "execution_count": 18,
   "metadata": {},
   "outputs": [
    {
     "data": {
      "text/plain": [
       "{'xgb_mod__n_estimators': 2500,\n",
       " 'xgb_mod__min_child_weight': 1,\n",
       " 'xgb_mod__max_depth': 9,\n",
       " 'xgb_mod__learning_rate': 0.01}"
      ]
     },
     "execution_count": 18,
     "metadata": {},
     "output_type": "execute_result"
    }
   ],
   "source": [
    "# Best hyperparameter values\n",
    "random_search_results.best_params_\n"
   ]
  },
  {
   "cell_type": "markdown",
   "metadata": {},
   "source": [
    "Feature Interpretation"
   ]
  },
  {
   "cell_type": "code",
   "execution_count": 19,
   "metadata": {},
   "outputs": [
    {
     "name": "stderr",
     "output_type": "stream",
     "text": [
      "/home/emumen/.local/lib/python3.8/site-packages/sklearn/utils/deprecation.py:87: FutureWarning: Function get_feature_names is deprecated; get_feature_names is deprecated in 1.0 and will be removed in 1.2. Please use get_feature_names_out instead.\n"
     ]
    },
    {
     "ename": "NameError",
     "evalue": "name 'labs' is not defined",
     "output_type": "error",
     "traceback": [
      "\u001b[0;31m---------------------------------------------------------------------------\u001b[0m",
      "\u001b[0;31mNameError\u001b[0m                                 Traceback (most recent call last)",
      "\u001b[1;32m/home/emumen/Documents/flights-price-ml/src/Esslam.ipynb Cell 22'\u001b[0m in \u001b[0;36m<cell line: 26>\u001b[0;34m()\u001b[0m\n\u001b[1;32m     <a href='vscode-notebook-cell://wsl%2Bubuntu-20.04/home/emumen/Documents/flights-price-ml/src/Esslam.ipynb#ch0000020vscode-remote?line=22'>23</a>\u001b[0m top_20_features \u001b[39m=\u001b[39m vi\u001b[39m.\u001b[39mnlargest(\u001b[39m20\u001b[39m, \u001b[39m'\u001b[39m\u001b[39mimportance\u001b[39m\u001b[39m'\u001b[39m)\n\u001b[1;32m     <a href='vscode-notebook-cell://wsl%2Bubuntu-20.04/home/emumen/Documents/flights-price-ml/src/Esslam.ipynb#ch0000020vscode-remote?line=24'>25</a>\u001b[0m \u001b[39m# plot feature importance\u001b[39;00m\n\u001b[1;32m     <a href='vscode-notebook-cell://wsl%2Bubuntu-20.04/home/emumen/Documents/flights-price-ml/src/Esslam.ipynb#ch0000020vscode-remote?line=25'>26</a>\u001b[0m (ggplot(top_20_features, aes(x\u001b[39m=\u001b[39m\u001b[39m'\u001b[39m\u001b[39mimportance\u001b[39m\u001b[39m'\u001b[39m, y\u001b[39m=\u001b[39m\u001b[39m'\u001b[39m\u001b[39mreorder(feature, importance)\u001b[39m\u001b[39m'\u001b[39m))\n\u001b[1;32m     <a href='vscode-notebook-cell://wsl%2Bubuntu-20.04/home/emumen/Documents/flights-price-ml/src/Esslam.ipynb#ch0000020vscode-remote?line=26'>27</a>\u001b[0m  \u001b[39m+\u001b[39m geom_point()\n\u001b[0;32m---> <a href='vscode-notebook-cell://wsl%2Bubuntu-20.04/home/emumen/Documents/flights-price-ml/src/Esslam.ipynb#ch0000020vscode-remote?line=27'>28</a>\u001b[0m  \u001b[39m+\u001b[39m labs(y\u001b[39m=\u001b[39m\u001b[39mNone\u001b[39;00m))\n",
      "\u001b[0;31mNameError\u001b[0m: name 'labs' is not defined"
     ]
    }
   ],
   "source": [
    "# preprocess training data\n",
    "X_encoded = preprocessor.fit_transform(X_train)\n",
    "\n",
    "# create final model object\n",
    "final_model = xgb.XGBRegressor(\n",
    "    n_estimators=5000,\n",
    "    learning_rate=0.1,\n",
    "    max_depth=3,\n",
    "    min_child_weight=1,\n",
    "    subsample=1,\n",
    "    colsample_bytree=0.75,\n",
    "    colsample_bylevel=0.75,\n",
    "    colsample_bynode=0.75\n",
    ")\n",
    "\n",
    "final_model_fit = final_model.fit(X_encoded, y_train)\n",
    "\n",
    "# extract feature importances\n",
    "vi = pd.DataFrame({'feature': preprocessor.get_feature_names(),\n",
    "                   'importance': final_model_fit.feature_importances_})\n",
    "\n",
    "# get top 20 influential features\n",
    "top_20_features = vi.nlargest(20, 'importance')\n",
    "\n",
    "# plot feature importance\n",
    "(ggplot(top_20_features, aes(x='importance', y='reorder(feature, importance)'))\n",
    " + geom_point()\n",
    " + labs(y=None))"
   ]
  }
 ],
 "metadata": {
  "kernelspec": {
   "display_name": "Python 3.8.10 64-bit",
   "language": "python",
   "name": "python3"
  },
  "language_info": {
   "codemirror_mode": {
    "name": "ipython",
    "version": 3
   },
   "file_extension": ".py",
   "mimetype": "text/x-python",
   "name": "python",
   "nbconvert_exporter": "python",
   "pygments_lexer": "ipython3",
   "version": "3.8.10"
  },
  "orig_nbformat": 4,
  "vscode": {
   "interpreter": {
    "hash": "916dbcbb3f70747c44a77c7bcd40155683ae19c65e1c03b4aa3499c5328201f1"
   }
  }
 },
 "nbformat": 4,
 "nbformat_minor": 2
}
