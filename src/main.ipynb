{
 "cells": [
  {
   "cell_type": "code",
   "execution_count": 1,
   "metadata": {},
   "outputs": [],
   "source": [
    "import numpy as np\n",
    "import pandas as pd\n",
    "import matplotlib.pyplot as plt\n",
    "from matplotlib import rcParams\n",
    "import seaborn as sns\n",
    "# Config plt.\n",
    "%config InlineBackend.figure_format = 'retina'\n",
    "%matplotlib inline\n",
    "plt.style.use('ggplot')\n",
    "rcParams['figure.figsize'] = 8, 5\n",
    "\n",
    "# Ignore warnings.\n",
    "import warnings\n",
    "warnings.filterwarnings(\"ignore\")"
   ]
  },
  {
   "cell_type": "code",
   "execution_count": 4,
   "metadata": {},
   "outputs": [],
   "source": [
    "df = pd.read_csv('../data/cleaned_data.csv')"
   ]
  },
  {
   "cell_type": "code",
   "execution_count": 5,
   "metadata": {},
   "outputs": [
    {
     "data": {
      "text/plain": [
       "(10462, 11)"
      ]
     },
     "execution_count": 5,
     "metadata": {},
     "output_type": "execute_result"
    }
   ],
   "source": [
    "df.shape"
   ]
  },
  {
   "cell_type": "markdown",
   "metadata": {},
   "source": [
    "# Flights Price Machine Learning\n",
    "## Description\n",
    "Flight tickets price prediction using different machine learning models such as K-nearest neighbor, decision tree & linear model.\n",
    "## Data\n",
    "The dataset contains flight tickets price from different airline companies along with other features such as the flight destination, and duration.\n",
    "| Feature        |  Description                                       |\n",
    "|   :---:        |     :---:                                          |\n",
    "| Price(target)  | The price of the ticket.                           |\n",
    "| Airline        | The airline name.                                  |\n",
    "| Source         | The source from which the service begins.          |\n",
    "| Destination    | The destination where the service ends.            |\n",
    "| Dep_Time       | The time when the journey starts from the source.  |\n",
    "| Arrival_Time   | The arrival time at the destination.               |\n",
    "| Duration       | The total flight duration.                         |\n",
    "| Total_Stops    | The total stops between the source and destination.|\n",
    "| Additional_Info| Any additional information about the flight.       |\n",
    "|Date_of_Journey | The date of the journey.                           |\n",
    "|Route           | The route taken by the flight to reach the destination.|\n",
    "\n",
    "<br>\n",
    "\n",
    "| Number of Entries |  Number of Features  |\n",
    "|   :---:           |     :---:            |\n",
    "|   10683           |           11         |\n"
   ]
  },
  {
   "cell_type": "markdown",
   "metadata": {},
   "source": [
    "### Data Cleaning\n",
    "\n",
    "- Extracted Year, Month, Day form \"Date_of_Juourney\"\n",
    "- Dropped \"year\" since its value is the same for all entires\n",
    "- Dropped \"date_of_journey\"\n",
    "- Converted \"Duration\" to seconds\n",
    "- Modified \"additional_info\" value \"No Info\" to \"No info\"\n",
    "- Dropped messing values\n",
    "- Dropped duplicated entries (kept one)\n",
    "- Converted \"total_stops\" from string to numeric\n",
    "- Categorize \"dep_time\"and \"arrival_time\" (i.e. \"mid_night\", \"moring:, \"afternoon\", \"evening\")\n",
    "- Dropped \"route\" since we will be using \"total_stops\""
   ]
  },
  {
   "cell_type": "code",
   "execution_count": 7,
   "metadata": {},
   "outputs": [
    {
     "data": {
      "text/html": [
       "<div>\n",
       "<style scoped>\n",
       "    .dataframe tbody tr th:only-of-type {\n",
       "        vertical-align: middle;\n",
       "    }\n",
       "\n",
       "    .dataframe tbody tr th {\n",
       "        vertical-align: top;\n",
       "    }\n",
       "\n",
       "    .dataframe thead th {\n",
       "        text-align: right;\n",
       "    }\n",
       "</style>\n",
       "<table border=\"1\" class=\"dataframe\">\n",
       "  <thead>\n",
       "    <tr style=\"text-align: right;\">\n",
       "      <th></th>\n",
       "      <th>airline</th>\n",
       "      <th>source</th>\n",
       "      <th>destination</th>\n",
       "      <th>dep_time</th>\n",
       "      <th>arrival_time</th>\n",
       "      <th>duration</th>\n",
       "      <th>total_stops</th>\n",
       "      <th>additional_info</th>\n",
       "      <th>price</th>\n",
       "      <th>month</th>\n",
       "      <th>day</th>\n",
       "    </tr>\n",
       "  </thead>\n",
       "  <tbody>\n",
       "    <tr>\n",
       "      <th>2556</th>\n",
       "      <td>IndiGo</td>\n",
       "      <td>Kolkata</td>\n",
       "      <td>Banglore</td>\n",
       "      <td>afternoon</td>\n",
       "      <td>afternoon</td>\n",
       "      <td>9000</td>\n",
       "      <td>0</td>\n",
       "      <td>No info</td>\n",
       "      <td>4804</td>\n",
       "      <td>4</td>\n",
       "      <td>27</td>\n",
       "    </tr>\n",
       "    <tr>\n",
       "      <th>4275</th>\n",
       "      <td>IndiGo</td>\n",
       "      <td>Delhi</td>\n",
       "      <td>Cochin</td>\n",
       "      <td>mid_night</td>\n",
       "      <td>afternoon</td>\n",
       "      <td>25500</td>\n",
       "      <td>1</td>\n",
       "      <td>No info</td>\n",
       "      <td>6818</td>\n",
       "      <td>5</td>\n",
       "      <td>15</td>\n",
       "    </tr>\n",
       "  </tbody>\n",
       "</table>\n",
       "</div>"
      ],
      "text/plain": [
       "     airline   source destination   dep_time arrival_time  duration  \\\n",
       "2556  IndiGo  Kolkata    Banglore  afternoon    afternoon      9000   \n",
       "4275  IndiGo    Delhi      Cochin  mid_night    afternoon     25500   \n",
       "\n",
       "      total_stops additional_info  price  month  day  \n",
       "2556            0         No info   4804      4   27  \n",
       "4275            1         No info   6818      5   15  "
      ]
     },
     "execution_count": 7,
     "metadata": {},
     "output_type": "execute_result"
    }
   ],
   "source": [
    "# Show a smaple of the cleaned dataset.\n",
    "df.sample(2)"
   ]
  },
  {
   "cell_type": "code",
   "execution_count": null,
   "metadata": {},
   "outputs": [],
   "source": []
  }
 ],
 "metadata": {
  "kernelspec": {
   "display_name": "Python 3.8.2 64-bit",
   "language": "python",
   "name": "python3"
  },
  "language_info": {
   "codemirror_mode": {
    "name": "ipython",
    "version": 3
   },
   "file_extension": ".py",
   "mimetype": "text/x-python",
   "name": "python",
   "nbconvert_exporter": "python",
   "pygments_lexer": "ipython3",
   "version": "3.8.2"
  },
  "orig_nbformat": 4,
  "vscode": {
   "interpreter": {
    "hash": "9650cb4e16cdd4a8e8e2d128bf38d875813998db22a3c986335f89e0cb4d7bb2"
   }
  }
 },
 "nbformat": 4,
 "nbformat_minor": 2
}
