{
 "cells": [
  {
   "cell_type": "code",
   "execution_count": 1,
   "metadata": {},
   "outputs": [],
   "source": [
    "import numpy as np\n",
    "import pandas as pd\n",
    "import matplotlib.pyplot as plt\n",
    "from matplotlib import rcParams\n",
    "import seaborn as sns\n",
    "# Config plt.\n",
    "%config InlineBackend.figure_format = 'retina'\n",
    "%matplotlib inline\n",
    "plt.style.use('ggplot')\n",
    "rcParams['figure.figsize'] = 8, 5\n",
    "\n",
    "# Ignore warnings.\n",
    "import warnings\n",
    "warnings.filterwarnings(\"ignore\")"
   ]
  },
  {
   "cell_type": "code",
   "execution_count": 8,
   "metadata": {},
   "outputs": [],
   "source": [
    "df = pd.read_excel('../data/Data_Train.xlsx')"
   ]
  },
  {
   "cell_type": "markdown",
   "metadata": {},
   "source": [
    "# Flights Price Machine Learning\n",
    "## Description\n",
    "Flight tickets price prediction using different machine learning models such as K-nearest neighbor, decision tree & linear model.\n",
    "## Data\n",
    "The dataset contains flight tickets price from different airline companies along with other features such as the flight destination, and duration.\n",
    "| Feature        |  Description                                       |\n",
    "|   :---:        |     :---:                                          |\n",
    "| Price(target)  | The price of the ticket.                           |\n",
    "| Airline        | The airline name.                                  |\n",
    "| Source         | The source from which the service begins.          |\n",
    "| Destination    | The destination where the service ends.            |\n",
    "| Dep_Time       | The time when the journey starts from the source.  |\n",
    "| Arrival_Time   | The arrival time at the destination.               |\n",
    "| Duration       | The total flight duration.                         |\n",
    "| Total_Stops    | The total stops between the source and destination.|\n",
    "| Additional_Info| Any additional information about the flight.       |\n",
    "|Date_of_Journey | The date of the journey.                           |\n",
    "|Route           | The route taken by the flight to reach the destination.|\n",
    "\n",
    "<br>\n",
    "\n",
    "| Number of Entries |  Number of Features  |\n",
    "|   :---:           |     :---:            |\n",
    "|   10683           |           11         |\n"
   ]
  },
  {
   "cell_type": "markdown",
   "metadata": {},
   "source": [
    "### Data Cleaning\n",
    "\n",
    "- Extracted Year, Month, Day form \"Date_of_Juourney\"\n",
    "- Dropped \"year\" since its value is the same for all entires\n",
    "- Dropped \"date_of_journey\"\n",
    "- Converted \"Duration\" to seconds\n",
    "- Modified \"additional_info\" value \"No Info\" to \"No info\"\n",
    "- Dropped messing values\n",
    "- Dropped duplicated entries (kept one)\n",
    "- Converted \"total_stops\" from string to numeric\n",
    "- Categorize \"dep_time\"and \"arrival_time\" (i.e. \"mid_night\", \"moring\", \"afternoon\", \"evening\")\n",
    "- Dropped \"route\" since we will be using \"total_stops\""
   ]
  },
  {
   "cell_type": "code",
   "execution_count": 9,
   "metadata": {},
   "outputs": [],
   "source": [
    "# Modify feature names to be lower cased.\n",
    "df.columns = df.columns.str.lower()\n",
    "\n",
    "# Change \"data_of_journey\" type to datetime.\n",
    "df.date_of_journey = pd.to_datetime(df.date_of_journey, infer_datetime_format=True)\n",
    "\n",
    "# Create \"year\", \"month\", and \"day\" features.\n",
    "df['year'] = pd.DatetimeIndex(df.date_of_journey).year\n",
    "df['month'] = pd.DatetimeIndex(df.date_of_journey).month\n",
    "df['day'] = pd.DatetimeIndex(df.date_of_journey).day\n",
    "\n",
    "# Convert \"duration to seconds\"\n",
    "df.duration = df.duration.apply(lambda x: f'{x} 0m' if not 'm' in x else x)\n",
    "df.duration = df.duration.apply(lambda x: f'0h {x}' if not 'h' in x else x)\n",
    "df.duration = df.duration.apply(lambda x: int(x.split()[0][:-1])*3600 + int(x.split()[1][:-1])*60)\n",
    "\n",
    "# Drop \"year\" since its value is the same for all entires.\n",
    "df.drop(columns=['year'], axis=1, inplace=True)\n",
    "df.reset_index(drop=True, inplace=True)\n",
    "\n",
    "# Modify \"additional_info\" value \"No Infor\" to \"No info\"\n",
    "df.additional_info = df.additional_info.str.replace('No Info', 'No info')\n",
    "\n",
    "# Drop Null values.\n",
    "df.dropna(inplace=True)\n",
    "df.reset_index(drop=True, inplace=True)\n",
    "\n",
    "# Drop douplicated entires.\n",
    "df.drop_duplicates(inplace=True)\n",
    "df.reset_index(drop=True, inplace=True)\n",
    "\n",
    "# Modify \"total_stops\" values to contain only the number.\n",
    "df.total_stops = df.total_stops.apply(lambda x: int(x.split()[0]) if not 'non-stop' in x.split()[0] else 0)\n",
    "\n",
    "# Categorize \"dep_time\"and \"arrival_time\".\n",
    "def categorizee_time(input):\n",
    "    time = input.split()[0]\n",
    "    if int(time[:2]) >= 0 and int(time[:2]) < 6:\n",
    "        return 'mid_night'\n",
    "    elif int(time[:2]) >= 6 and int(time[:2]) < 12:\n",
    "        return 'morning'\n",
    "    elif int(time[:2]) >= 12 and int(time[:2]) < 18:\n",
    "        return 'afternoon'\n",
    "    elif int(time[:2]) >= 18 and int(time[:2]) < 24:\n",
    "        return 'evening'\n",
    "\n",
    "df.dep_time = df.dep_time.apply(categorizee_time)\n",
    "df.arrival_time = df.arrival_time.apply(categorizee_time)\n",
    "\n",
    "# Drop \"date_of_journey\" and \"route\".\n",
    "df.drop(columns=['date_of_journey', 'route'], axis=1, inplace=True)\n",
    "df.reset_index(drop=True, inplace=True)"
   ]
  },
  {
   "cell_type": "code",
   "execution_count": 10,
   "metadata": {},
   "outputs": [
    {
     "data": {
      "text/html": [
       "<div>\n",
       "<style scoped>\n",
       "    .dataframe tbody tr th:only-of-type {\n",
       "        vertical-align: middle;\n",
       "    }\n",
       "\n",
       "    .dataframe tbody tr th {\n",
       "        vertical-align: top;\n",
       "    }\n",
       "\n",
       "    .dataframe thead th {\n",
       "        text-align: right;\n",
       "    }\n",
       "</style>\n",
       "<table border=\"1\" class=\"dataframe\">\n",
       "  <thead>\n",
       "    <tr style=\"text-align: right;\">\n",
       "      <th></th>\n",
       "      <th>airline</th>\n",
       "      <th>source</th>\n",
       "      <th>destination</th>\n",
       "      <th>dep_time</th>\n",
       "      <th>arrival_time</th>\n",
       "      <th>duration</th>\n",
       "      <th>total_stops</th>\n",
       "      <th>additional_info</th>\n",
       "      <th>price</th>\n",
       "      <th>month</th>\n",
       "      <th>day</th>\n",
       "    </tr>\n",
       "  </thead>\n",
       "  <tbody>\n",
       "    <tr>\n",
       "      <th>6961</th>\n",
       "      <td>Jet Airways</td>\n",
       "      <td>Delhi</td>\n",
       "      <td>Cochin</td>\n",
       "      <td>morning</td>\n",
       "      <td>evening</td>\n",
       "      <td>29100</td>\n",
       "      <td>2</td>\n",
       "      <td>No info</td>\n",
       "      <td>11360</td>\n",
       "      <td>3</td>\n",
       "      <td>21</td>\n",
       "    </tr>\n",
       "    <tr>\n",
       "      <th>6325</th>\n",
       "      <td>Jet Airways</td>\n",
       "      <td>Delhi</td>\n",
       "      <td>Cochin</td>\n",
       "      <td>evening</td>\n",
       "      <td>evening</td>\n",
       "      <td>77700</td>\n",
       "      <td>2</td>\n",
       "      <td>In-flight meal not included</td>\n",
       "      <td>10588</td>\n",
       "      <td>6</td>\n",
       "      <td>6</td>\n",
       "    </tr>\n",
       "  </tbody>\n",
       "</table>\n",
       "</div>"
      ],
      "text/plain": [
       "          airline source destination dep_time arrival_time  duration  \\\n",
       "6961  Jet Airways  Delhi      Cochin  morning      evening     29100   \n",
       "6325  Jet Airways  Delhi      Cochin  evening      evening     77700   \n",
       "\n",
       "      total_stops              additional_info  price  month  day  \n",
       "6961            2                      No info  11360      3   21  \n",
       "6325            2  In-flight meal not included  10588      6    6  "
      ]
     },
     "execution_count": 10,
     "metadata": {},
     "output_type": "execute_result"
    }
   ],
   "source": [
    "# Show a smaple of the cleaned dataset.\n",
    "df.sample(2)"
   ]
  },
  {
   "cell_type": "code",
   "execution_count": null,
   "metadata": {},
   "outputs": [],
   "source": []
  }
 ],
 "metadata": {
  "kernelspec": {
   "display_name": "Python 3.8.2 64-bit",
   "language": "python",
   "name": "python3"
  },
  "language_info": {
   "codemirror_mode": {
    "name": "ipython",
    "version": 3
   },
   "file_extension": ".py",
   "mimetype": "text/x-python",
   "name": "python",
   "nbconvert_exporter": "python",
   "pygments_lexer": "ipython3",
   "version": "3.8.2"
  },
  "orig_nbformat": 4,
  "vscode": {
   "interpreter": {
    "hash": "9650cb4e16cdd4a8e8e2d128bf38d875813998db22a3c986335f89e0cb4d7bb2"
   }
  }
 },
 "nbformat": 4,
 "nbformat_minor": 2
}
